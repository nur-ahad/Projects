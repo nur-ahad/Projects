{
 "cells": [
  {
   "cell_type": "code",
   "execution_count": 1,
   "id": "3296adee",
   "metadata": {},
   "outputs": [],
   "source": [
    "import numpy as np\n",
    "from scipy.stats import beta\n",
    "import matplotlib.pyplot as plt\n",
    "plt.style.use('seaborn-darkgrid')"
   ]
  },
  {
   "cell_type": "code",
   "execution_count": 2,
   "id": "d4661c46",
   "metadata": {},
   "outputs": [],
   "source": [
    "# Specify known values of prior and actual data.\n",
    "prior_a = 100\n",
    "prior_b = 1\n",
    "actual_data_Z = 8\n",
    "actual_data_N = 12"
   ]
  },
  {
   "cell_type": "code",
   "execution_count": 3,
   "id": "995f877b",
   "metadata": {},
   "outputs": [],
   "source": [
    "# Compute posterior parameter values.\n",
    "post_a = prior_a + actual_data_Z\n",
    "post_b = prior_b + actual_data_N - actual_data_Z"
   ]
  },
  {
   "cell_type": "code",
   "execution_count": 4,
   "id": "34c5c600",
   "metadata": {},
   "outputs": [],
   "source": [
    "# Number of flips in a simulated sample should match the actual sample size:\n",
    "sim_sample_size = actual_data_N"
   ]
  },
  {
   "cell_type": "code",
   "execution_count": 5,
   "id": "3b9f80d3",
   "metadata": {},
   "outputs": [],
   "source": [
    "# Designate an arbitrarily large number of simulated samples.\n",
    "n_sim_samples = 1000"
   ]
  },
  {
   "cell_type": "code",
   "execution_count": 6,
   "id": "71f7d406",
   "metadata": {},
   "outputs": [],
   "source": [
    "# Set aside a vector in which to store the simulation results.\n",
    "sim_sample_Z_record = np.zeros(n_sim_samples)"
   ]
  },
  {
   "cell_type": "code",
   "execution_count": 7,
   "id": "72d6e703",
   "metadata": {},
   "outputs": [],
   "source": [
    "# Now generate samples from the posterior.\n",
    "for sample_idx in range(0, n_sim_samples):\n",
    "    # Generate a theta value for the new sample from the posterior.\n",
    "    sample_theta = beta.rvs(post_a, post_b)\n",
    "    # Generate a sample, using sample_theta.\n",
    "    sample_data = np.random.choice([0, 1], p=[1-sample_theta, sample_theta],\n",
    "                                  size=sim_sample_size, replace=True)\n",
    "    sim_sample_Z_record[sample_idx] = sum(sample_data)"
   ]
  },
  {
   "cell_type": "code",
   "execution_count": 8,
   "id": "4ec08f15",
   "metadata": {},
   "outputs": [
    {
     "data": {
      "image/png": "[encoded data removed]",
      "text/plain": [
       "<Figure size 432x288 with 1 Axes>"
      ]
     },
     "metadata": {},
     "output_type": "display_data"
    }
   ],
   "source": [
    "## Make a histogram of the number of heads in the samples.\n",
    "plt.hist(sim_sample_Z_record)\n",
    "plt.show()"
   ]
  },
  {
   "cell_type": "code",
   "execution_count": null,
   "id": "e8ff2ac0",
   "metadata": {},
   "outputs": [],
   "source": []
  }
 ],
 "metadata": {
  "kernelspec": {
   "display_name": "Python 3 (ipykernel)",
   "language": "python",
   "name": "python3"
  },
  "language_info": {
   "codemirror_mode": {
    "name": "ipython",
    "version": 3
   },
   "file_extension": ".py",
   "mimetype": "text/x-python",
   "name": "python",
   "nbconvert_exporter": "python",
   "pygments_lexer": "ipython3",
   "version": "3.9.7"
  }
 },
 "nbformat": 4,
 "nbformat_minor": 5
}
